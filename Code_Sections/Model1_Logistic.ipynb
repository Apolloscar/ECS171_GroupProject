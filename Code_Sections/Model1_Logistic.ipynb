{
 "cells": [
  {
   "cell_type": "code",
   "execution_count": 1,
   "id": "686b5ae7",
   "metadata": {},
   "outputs": [],
   "source": [
    "import seaborn as sns\n",
    "import pandas as pd\n",
    "import numpy as np\n",
    "import csv\n",
    "\n",
    "# reformat data (change semi-colons to commas)\n",
    "reader = csv.reader(open('./winequality-red.csv', \"r\"), delimiter=';')\n",
    "writer = csv.writer(open('./winequality-red-reformatted.csv', 'w'), delimiter=',')\n",
    "writer.writerows(reader)\n",
    "\n",
    "# read reformatted data using Pandas\n",
    "Data = pd.read_csv('./winequality-red-reformatted.csv')"
   ]
  },
  {
   "cell_type": "code",
   "execution_count": 2,
   "id": "d879e4e9",
   "metadata": {},
   "outputs": [
    {
     "data": {
      "text/html": [
       "<style>#sk-container-id-1 {color: black;background-color: white;}#sk-container-id-1 pre{padding: 0;}#sk-container-id-1 div.sk-toggleable {background-color: white;}#sk-container-id-1 label.sk-toggleable__label {cursor: pointer;display: block;width: 100%;margin-bottom: 0;padding: 0.3em;box-sizing: border-box;text-align: center;}#sk-container-id-1 label.sk-toggleable__label-arrow:before {content: \"▸\";float: left;margin-right: 0.25em;color: #696969;}#sk-container-id-1 label.sk-toggleable__label-arrow:hover:before {color: black;}#sk-container-id-1 div.sk-estimator:hover label.sk-toggleable__label-arrow:before {color: black;}#sk-container-id-1 div.sk-toggleable__content {max-height: 0;max-width: 0;overflow: hidden;text-align: left;background-color: #f0f8ff;}#sk-container-id-1 div.sk-toggleable__content pre {margin: 0.2em;color: black;border-radius: 0.25em;background-color: #f0f8ff;}#sk-container-id-1 input.sk-toggleable__control:checked~div.sk-toggleable__content {max-height: 200px;max-width: 100%;overflow: auto;}#sk-container-id-1 input.sk-toggleable__control:checked~label.sk-toggleable__label-arrow:before {content: \"▾\";}#sk-container-id-1 div.sk-estimator input.sk-toggleable__control:checked~label.sk-toggleable__label {background-color: #d4ebff;}#sk-container-id-1 div.sk-label input.sk-toggleable__control:checked~label.sk-toggleable__label {background-color: #d4ebff;}#sk-container-id-1 input.sk-hidden--visually {border: 0;clip: rect(1px 1px 1px 1px);clip: rect(1px, 1px, 1px, 1px);height: 1px;margin: -1px;overflow: hidden;padding: 0;position: absolute;width: 1px;}#sk-container-id-1 div.sk-estimator {font-family: monospace;background-color: #f0f8ff;border: 1px dotted black;border-radius: 0.25em;box-sizing: border-box;margin-bottom: 0.5em;}#sk-container-id-1 div.sk-estimator:hover {background-color: #d4ebff;}#sk-container-id-1 div.sk-parallel-item::after {content: \"\";width: 100%;border-bottom: 1px solid gray;flex-grow: 1;}#sk-container-id-1 div.sk-label:hover label.sk-toggleable__label {background-color: #d4ebff;}#sk-container-id-1 div.sk-serial::before {content: \"\";position: absolute;border-left: 1px solid gray;box-sizing: border-box;top: 0;bottom: 0;left: 50%;z-index: 0;}#sk-container-id-1 div.sk-serial {display: flex;flex-direction: column;align-items: center;background-color: white;padding-right: 0.2em;padding-left: 0.2em;position: relative;}#sk-container-id-1 div.sk-item {position: relative;z-index: 1;}#sk-container-id-1 div.sk-parallel {display: flex;align-items: stretch;justify-content: center;background-color: white;position: relative;}#sk-container-id-1 div.sk-item::before, #sk-container-id-1 div.sk-parallel-item::before {content: \"\";position: absolute;border-left: 1px solid gray;box-sizing: border-box;top: 0;bottom: 0;left: 50%;z-index: -1;}#sk-container-id-1 div.sk-parallel-item {display: flex;flex-direction: column;z-index: 1;position: relative;background-color: white;}#sk-container-id-1 div.sk-parallel-item:first-child::after {align-self: flex-end;width: 50%;}#sk-container-id-1 div.sk-parallel-item:last-child::after {align-self: flex-start;width: 50%;}#sk-container-id-1 div.sk-parallel-item:only-child::after {width: 0;}#sk-container-id-1 div.sk-dashed-wrapped {border: 1px dashed gray;margin: 0 0.4em 0.5em 0.4em;box-sizing: border-box;padding-bottom: 0.4em;background-color: white;}#sk-container-id-1 div.sk-label label {font-family: monospace;font-weight: bold;display: inline-block;line-height: 1.2em;}#sk-container-id-1 div.sk-label-container {text-align: center;}#sk-container-id-1 div.sk-container {/* jupyter's `normalize.less` sets `[hidden] { display: none; }` but bootstrap.min.css set `[hidden] { display: none !important; }` so we also need the `!important` here to be able to override the default hidden behavior on the sphinx rendered scikit-learn.org. See: https://github.com/scikit-learn/scikit-learn/issues/21755 */display: inline-block !important;position: relative;}#sk-container-id-1 div.sk-text-repr-fallback {display: none;}</style><div id=\"sk-container-id-1\" class=\"sk-top-container\"><div class=\"sk-text-repr-fallback\"><pre>MinMaxScaler()</pre><b>In a Jupyter environment, please rerun this cell to show the HTML representation or trust the notebook. <br />On GitHub, the HTML representation is unable to render, please try loading this page with nbviewer.org.</b></div><div class=\"sk-container\" hidden><div class=\"sk-item\"><div class=\"sk-estimator sk-toggleable\"><input class=\"sk-toggleable__control sk-hidden--visually\" id=\"sk-estimator-id-1\" type=\"checkbox\" checked><label for=\"sk-estimator-id-1\" class=\"sk-toggleable__label sk-toggleable__label-arrow\">MinMaxScaler</label><div class=\"sk-toggleable__content\"><pre>MinMaxScaler()</pre></div></div></div></div></div>"
      ],
      "text/plain": [
       "MinMaxScaler()"
      ]
     },
     "execution_count": 2,
     "metadata": {},
     "output_type": "execute_result"
    }
   ],
   "source": [
    "from sklearn.model_selection import train_test_split\n",
    "from sklearn.linear_model import LogisticRegression\n",
    "from sklearn.preprocessing import MinMaxScaler\n",
    "from imblearn.over_sampling import SMOTE\n",
    "\n",
    "# create an array 'target' & populate it with False if element in quality \n",
    "# column is less than or equal to quality's median value; else populte with True\n",
    "target = [0 if q <= np.median(Data.quality) else 1 for q in Data.quality]\n",
    "\n",
    "# create a Pandas series from 'target' array\n",
    "Data[\"target\"] = pd.Series(target)\n",
    "\n",
    "\n",
    "# The frquency of ones in the target column is much lower than the frequency of\n",
    "# zeros, so it might be a good idea to oversample the training data\n",
    "\n",
    "# create instances of minmaxscaler & logistic regression\n",
    "scaler = MinMaxScaler()\n",
    "reg = LogisticRegression()\n",
    "\n",
    "# drop columns & scale data\n",
    "X = Data.drop(columns = ['target', 'quality'])\n",
    "X = scaler.fit_transform(X)\n",
    "y = Data.target\n",
    "\n",
    "# split the data into training and testing set with the ratio of 80:20\n",
    "X_train, X_test, y_train, y_test = train_test_split(X, y, test_size = 0.2, random_state = 20)\n",
    "\n",
    "# oversample the training data\n",
    "sm = SMOTE(random_state = 20)\n",
    "X_resamp, y_resamp = sm.fit_resample(X_train, y_train)\n",
    "\n",
    "\n",
    "# rescale data\n",
    "scaler.fit(X_resamp, y_resamp)"
   ]
  },
  {
   "cell_type": "markdown",
   "id": "9e5834d3",
   "metadata": {},
   "source": [
    "### First Model Build Using Logistic Regression"
   ]
  },
  {
   "cell_type": "code",
   "execution_count": 3,
   "id": "bbb02d9f",
   "metadata": {},
   "outputs": [],
   "source": [
    "from sklearn.linear_model import LogisticRegression\n",
    "\n",
    "# fit the regression model to the resampled data and predict\n",
    "reg.fit(X_resamp, y_resamp)\n",
    "yhat_test = reg.predict(X_test)\n",
    "yhat_train = reg.predict(X_resamp)"
   ]
  },
  {
   "cell_type": "markdown",
   "id": "0d552d17",
   "metadata": {},
   "source": [
    "### Report for Model 1"
   ]
  },
  {
   "cell_type": "code",
   "execution_count": 4,
   "id": "4f23b003",
   "metadata": {},
   "outputs": [
    {
     "name": "stdout",
     "output_type": "stream",
     "text": [
      "MSE for testing data set is: 0.23278688524590163\n",
      "MSE for training data set is: 0.18303145853193517\n",
      "Training:\n",
      "               precision    recall  f1-score   support\n",
      "\n",
      "           0       0.83      0.80      0.81      1049\n",
      "           1       0.80      0.84      0.82      1049\n",
      "\n",
      "    accuracy                           0.82      2098\n",
      "   macro avg       0.82      0.82      0.82      2098\n",
      "weighted avg       0.82      0.82      0.82      2098\n",
      "\n",
      "Testing:\n",
      "               precision    recall  f1-score   support\n",
      "\n",
      "           0       0.95      0.77      0.85       264\n",
      "           1       0.34      0.76      0.47        41\n",
      "\n",
      "    accuracy                           0.77       305\n",
      "   macro avg       0.65      0.76      0.66       305\n",
      "weighted avg       0.87      0.77      0.80       305\n",
      "\n",
      "[ 2.87504613e+00 -3.14610316e+00 -6.18589294e-02  4.73712070e-01\n",
      " -2.17227630e+00  5.28084696e-03 -3.22929007e+00 -1.83837693e+00\n",
      " -2.66050691e-01  4.08734038e+00  6.31621483e+00]\n"
     ]
    },
    {
     "data": {
      "text/plain": [
       "<AxesSubplot: >"
      ]
     },
     "execution_count": 4,
     "metadata": {},
     "output_type": "execute_result"
    },
    {
     "data": {
      "image/png": "[encoded data removed]",
      "text/plain": [
       "<Figure size 640x480 with 1 Axes>"
      ]
     },
     "metadata": {},
     "output_type": "display_data"
    }
   ],
   "source": [
    "from sklearn.metrics import mean_squared_error\n",
    "from sklearn.metrics import classification_report\n",
    "\n",
    "# find the MSE values & output\n",
    "MSE_test = mean_squared_error(y_test, yhat_test)\n",
    "MSE_train = mean_squared_error(y_resamp, yhat_train)\n",
    "print(\"MSE for testing data set is:\", MSE_test)\n",
    "print(\"MSE for training data set is:\", MSE_train)\n",
    "\n",
    "# classification report\n",
    "print(\"Training:\\n\",classification_report(y_resamp, yhat_train))\n",
    "print(\"Testing:\\n\",classification_report(y_test, yhat_test))\n",
    "\n",
    "# coef scatterplot\n",
    "reg.score(X_test, y_test)\n",
    "print(reg.coef_[0])\n",
    "sns.scatterplot(x = list(range(0,len(reg.coef_[0]))),y = reg.coef_[0]) "
   ]
  }
 ],
 "metadata": {
  "kernelspec": {
   "display_name": "Python 3 (ipykernel)",
   "language": "python",
   "name": "python3"
  },
  "language_info": {
   "codemirror_mode": {
    "name": "ipython",
    "version": 3
   },
   "file_extension": ".py",
   "mimetype": "text/x-python",
   "name": "python",
   "nbconvert_exporter": "python",
   "pygments_lexer": "ipython3",
   "version": "3.8.10"
  }
 },
 "nbformat": 4,
 "nbformat_minor": 5
}
