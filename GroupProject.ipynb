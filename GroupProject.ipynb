import seaborn as sns
import pandas as pd
import numpy as np

Data = pd.read_csv('winequality-red.csv')
print(Data)
